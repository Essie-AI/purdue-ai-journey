{
 "cells": [
  {
   "cell_type": "code",
   "execution_count": 2,
   "id": "a92d57e6-2d69-4ba5-bd3d-292d9f06b997",
   "metadata": {},
   "outputs": [
    {
     "name": "stdout",
     "output_type": "stream",
     "text": [
      "Hello Essie!\n"
     ]
    }
   ],
   "source": [
    "print(\"Hello Essie!\")"
   ]
  },
  {
   "cell_type": "code",
   "execution_count": 1,
   "id": "c269ce59-41a0-4906-b33a-df53352d36d5",
   "metadata": {},
   "outputs": [
    {
     "name": "stdout",
     "output_type": "stream",
     "text": [
      "2025\n"
     ]
    }
   ],
   "source": [
    "int = 2025\n",
    "print (int)"
   ]
  },
  {
   "cell_type": "code",
   "execution_count": 2,
   "id": "2fdaa981-7181-4279-892e-f9eab149c856",
   "metadata": {},
   "outputs": [
    {
     "name": "stdout",
     "output_type": "stream",
     "text": [
      "3.14\n"
     ]
    }
   ],
   "source": [
    "float = 3.14\n",
    "print(float)"
   ]
  },
  {
   "cell_type": "code",
   "execution_count": 4,
   "id": "c6c865eb-1700-427f-a5c1-f3f4dd109674",
   "metadata": {},
   "outputs": [
    {
     "name": "stdout",
     "output_type": "stream",
     "text": [
      "True\n"
     ]
    }
   ],
   "source": [
    "bool = True\n",
    "print(bool)"
   ]
  },
  {
   "cell_type": "raw",
   "id": "eafc0a64-8c5d-4c52-a096-522169cfdda6",
   "metadata": {},
   "source": [
    "string = \"Comments by users in survey\"\n",
    "print(string)"
   ]
  },
  {
   "cell_type": "code",
   "execution_count": 6,
   "id": "a1354b25-401d-4f1c-beb4-c37cf202c41d",
   "metadata": {},
   "outputs": [
    {
     "name": "stdout",
     "output_type": "stream",
     "text": [
      "{'stout', 'wheat', 'ipa', 'golden ale', 'lager'}\n"
     ]
    }
   ],
   "source": [
    "set = {\"ipa\",\"stout\",\"lager\",\"wheat\",\"golden ale\"}\n",
    "print (set)"
   ]
  },
  {
   "cell_type": "code",
   "execution_count": null,
   "id": "dcaefdc8-b9ca-46ad-bc7f-33a614154ecf",
   "metadata": {},
   "outputs": [],
   "source": []
  }
 ],
 "metadata": {
  "kernelspec": {
   "display_name": "Python 3 [3.10]",
   "language": "python",
   "name": "python3"
  },
  "language_info": {
   "codemirror_mode": {
    "name": "ipython",
    "version": 3
   },
   "file_extension": ".py",
   "mimetype": "text/x-python",
   "name": "python",
   "nbconvert_exporter": "python",
   "pygments_lexer": "ipython3",
   "version": "3.10.2"
  }
 },
 "nbformat": 4,
 "nbformat_minor": 5
}
